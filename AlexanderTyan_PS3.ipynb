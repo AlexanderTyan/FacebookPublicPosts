{
 "cells": [
  {
   "cell_type": "markdown",
   "metadata": {},
   "source": [
    "# Problem Set 3\n",
    "# Alexander Tyan"
   ]
  },
  {
   "cell_type": "markdown",
   "metadata": {},
   "source": [
    "## Part 1: Image classification (5 points)"
   ]
  },
  {
   "cell_type": "code",
   "execution_count": 53,
   "metadata": {},
   "outputs": [
    {
     "data": {
      "text/plain": [
       "'2.1.5'"
      ]
     },
     "execution_count": 53,
     "metadata": {},
     "output_type": "execute_result"
    }
   ],
   "source": [
    "import keras\n",
    "import random\n",
    "from keras.datasets import mnist\n",
    "from keras import models\n",
    "from keras import layers\n",
    "from keras import optimizers\n",
    "from keras.utils import to_categorical\n",
    "import matplotlib.pyplot as plt\n",
    "from sklearn.model_selection import KFold\n",
    "from sklearn.cross_validation import train_test_split\n",
    "keras.__version__"
   ]
  },
  {
   "cell_type": "markdown",
   "metadata": {},
   "source": [
    "Set your random seed to 1234"
   ]
  },
  {
   "cell_type": "code",
   "execution_count": 2,
   "metadata": {},
   "outputs": [],
   "source": [
    "random.seed(1234)"
   ]
  },
  {
   "cell_type": "markdown",
   "metadata": {},
   "source": [
    "Load the MNIST dataset"
   ]
  },
  {
   "cell_type": "code",
   "execution_count": 35,
   "metadata": {},
   "outputs": [],
   "source": [
    "(train_images, train_labels), (test_images, test_labels) = mnist.load_data()"
   ]
  },
  {
   "cell_type": "markdown",
   "metadata": {},
   "source": [
    "Preprocess the data by converting the data to a 2D tensor with individual values between 0 and 1"
   ]
  },
  {
   "cell_type": "code",
   "execution_count": 36,
   "metadata": {},
   "outputs": [],
   "source": [
    "train_images = train_images.reshape((60000, 28 * 28))\n",
    "train_images = train_images.astype('float32') / 255\n",
    "test_images = test_images.reshape((10000, 28 * 28))\n",
    "test_images = test_images.astype('float32') / 255\n",
    "train_labels = to_categorical(train_labels)\n",
    "test_labels = to_categorical(test_labels)"
   ]
  },
  {
   "cell_type": "markdown",
   "metadata": {},
   "source": [
    "Randomly split the training data into 50,000 training observations and 10,000 validation observations"
   ]
  },
  {
   "cell_type": "code",
   "execution_count": 37,
   "metadata": {},
   "outputs": [],
   "source": [
    "partial_x_train, x_val, partial_y_train, y_val = train_test_split(train_images, train_labels, test_size=(1/6), random_state=25)"
   ]
  },
  {
   "cell_type": "markdown",
   "metadata": {},
   "source": [
    "Implement a series of neural network models\n",
    "- 5 dense, fully-connected layers\n",
    "- relu activation except for the last layer (use softmax)\n",
    "- Initialize with 512 hidden units apiece (except for the last layer)\n",
    "- Use rmsprop optimizer\n",
    "- Use categorical crossentropy for loss function\n",
    "- Train with batch_size = 512 and 200 epochs\n",
    "- Track validation set accuracy during training process"
   ]
  },
  {
   "cell_type": "code",
   "execution_count": 38,
   "metadata": {},
   "outputs": [],
   "source": [
    "network = models.Sequential()\n",
    "network.add(layers.Dense(512, activation='relu', input_shape=(28 * 28,)))\n",
    "network.add(layers.Dense(512, activation='relu'))\n",
    "network.add(layers.Dense(512, activation='relu'))\n",
    "network.add(layers.Dense(512, activation='relu'))\n",
    "network.add(layers.Dense(10, activation='softmax'))"
   ]
  },
  {
   "cell_type": "code",
   "execution_count": 39,
   "metadata": {},
   "outputs": [],
   "source": [
    "network.compile(optimizer='rmsprop',\n",
    "                loss='categorical_crossentropy',\n",
    "                metrics=['accuracy'])"
   ]
  },
  {
   "cell_type": "code",
   "execution_count": 45,
   "metadata": {},
   "outputs": [
    {
     "name": "stdout",
     "output_type": "stream",
     "text": [
      "Train on 60000 samples, validate on 10000 samples\n",
      "Epoch 1/10\n",
      "60000/60000 [==============================] - 10s 159us/step - loss: 0.0062 - acc: 0.9989 - val_loss: 0.0064 - val_acc: 0.9986\n",
      "Epoch 2/10\n",
      "60000/60000 [==============================] - 10s 164us/step - loss: 0.0068 - acc: 0.9989 - val_loss: 7.2199e-04 - val_acc: 0.9999\n",
      "Epoch 3/10\n",
      "60000/60000 [==============================] - 10s 172us/step - loss: 0.0044 - acc: 0.9993 - val_loss: 0.0043 - val_acc: 0.9993\n",
      "Epoch 4/10\n",
      "60000/60000 [==============================] - 11s 176us/step - loss: 0.0074 - acc: 0.9990 - val_loss: 0.0310 - val_acc: 0.9952\n",
      "Epoch 5/10\n",
      "60000/60000 [==============================] - 11s 186us/step - loss: 0.0078 - acc: 0.9987 - val_loss: 0.0025 - val_acc: 0.9994\n",
      "Epoch 6/10\n",
      "60000/60000 [==============================] - 11s 178us/step - loss: 0.0046 - acc: 0.9992 - val_loss: 0.0034 - val_acc: 0.9998\n",
      "Epoch 7/10\n",
      "60000/60000 [==============================] - 11s 185us/step - loss: 0.0064 - acc: 0.9992 - val_loss: 0.0035 - val_acc: 0.9994\n",
      "Epoch 8/10\n",
      "60000/60000 [==============================] - 13s 211us/step - loss: 0.0055 - acc: 0.9990 - val_loss: 0.0058 - val_acc: 0.9988\n",
      "Epoch 9/10\n",
      "60000/60000 [==============================] - 11s 182us/step - loss: 0.0067 - acc: 0.9989 - val_loss: 0.0028 - val_acc: 0.9996\n",
      "Epoch 10/10\n",
      "60000/60000 [==============================] - 11s 180us/step - loss: 0.0054 - acc: 0.9990 - val_loss: 0.0026 - val_acc: 0.9996\n"
     ]
    }
   ],
   "source": [
    "history = network.fit(train_images, train_labels, \n",
    "                      epochs=10, batch_size=512,\n",
    "                      validation_data=(x_val, y_val))"
   ]
  },
  {
   "cell_type": "code",
   "execution_count": 50,
   "metadata": {},
   "outputs": [
    {
     "name": "stdout",
     "output_type": "stream",
     "text": [
      "Train on 60000 samples, validate on 10000 samples\n",
      "Epoch 1/200\n",
      "60000/60000 [==============================] - 9s 152us/step - loss: 0.0072 - acc: 0.9987 - val_loss: 0.0015 - val_acc: 0.9999\n",
      "Epoch 2/200\n",
      "60000/60000 [==============================] - 10s 163us/step - loss: 0.0049 - acc: 0.9991 - val_loss: 0.0105 - val_acc: 0.9991\n",
      "Epoch 3/200\n",
      "60000/60000 [==============================] - 9s 156us/step - loss: 0.0066 - acc: 0.9990 - val_loss: 3.8843e-04 - val_acc: 0.9997\n",
      "Epoch 4/200\n",
      "60000/60000 [==============================] - 9s 156us/step - loss: 0.0064 - acc: 0.9990 - val_loss: 0.0120 - val_acc: 0.9978\n",
      "Epoch 5/200\n",
      "60000/60000 [==============================] - 9s 153us/step - loss: 0.0050 - acc: 0.9990 - val_loss: 9.6926e-04 - val_acc: 0.9997\n",
      "Epoch 6/200\n",
      "60000/60000 [==============================] - 10s 161us/step - loss: 0.0090 - acc: 0.9986 - val_loss: 0.0131 - val_acc: 0.9975\n",
      "Epoch 7/200\n",
      "60000/60000 [==============================] - 10s 162us/step - loss: 0.0075 - acc: 0.9988 - val_loss: 7.8151e-04 - val_acc: 0.9999\n",
      "Epoch 8/200\n",
      "60000/60000 [==============================] - 10s 173us/step - loss: 0.0064 - acc: 0.9991 - val_loss: 0.0017 - val_acc: 0.9996\n",
      "Epoch 9/200\n",
      "60000/60000 [==============================] - 11s 182us/step - loss: 0.0041 - acc: 0.9993 - val_loss: 0.0187 - val_acc: 0.9976\n",
      "Epoch 10/200\n",
      "60000/60000 [==============================] - 10s 163us/step - loss: 0.0061 - acc: 0.9991 - val_loss: 8.3483e-05 - val_acc: 1.0000\n",
      "Epoch 11/200\n",
      "60000/60000 [==============================] - 9s 158us/step - loss: 0.0090 - acc: 0.9988 - val_loss: 0.0151 - val_acc: 0.9978\n",
      "Epoch 12/200\n",
      "60000/60000 [==============================] - 10s 159us/step - loss: 0.0040 - acc: 0.9994 - val_loss: 0.0198 - val_acc: 0.9977\n",
      "Epoch 13/200\n",
      "60000/60000 [==============================] - 10s 163us/step - loss: 0.0074 - acc: 0.9987 - val_loss: 0.0037 - val_acc: 0.9995\n",
      "Epoch 14/200\n",
      "60000/60000 [==============================] - 9s 157us/step - loss: 0.0081 - acc: 0.9986 - val_loss: 0.0038 - val_acc: 0.9995\n",
      "Epoch 15/200\n",
      "60000/60000 [==============================] - 10s 167us/step - loss: 0.0057 - acc: 0.9992 - val_loss: 0.0494 - val_acc: 0.9949\n",
      "Epoch 16/200\n",
      "60000/60000 [==============================] - 10s 167us/step - loss: 0.0059 - acc: 0.9992 - val_loss: 0.0071 - val_acc: 0.9986\n",
      "Epoch 17/200\n",
      "60000/60000 [==============================] - 10s 163us/step - loss: 0.0080 - acc: 0.9987 - val_loss: 0.0068 - val_acc: 0.9989\n",
      "Epoch 18/200\n",
      "60000/60000 [==============================] - 10s 167us/step - loss: 0.0052 - acc: 0.9990 - val_loss: 0.0101 - val_acc: 0.9987\n",
      "Epoch 19/200\n",
      "60000/60000 [==============================] - 10s 165us/step - loss: 0.0076 - acc: 0.9989 - val_loss: 0.0033 - val_acc: 0.9993\n",
      "Epoch 20/200\n",
      "60000/60000 [==============================] - 10s 168us/step - loss: 0.0058 - acc: 0.9990 - val_loss: 0.0043 - val_acc: 0.9992\n",
      "Epoch 21/200\n",
      "60000/60000 [==============================] - 10s 164us/step - loss: 0.0073 - acc: 0.9990 - val_loss: 1.9041e-04 - val_acc: 1.0000\n",
      "Epoch 22/200\n",
      "60000/60000 [==============================] - 10s 160us/step - loss: 0.0037 - acc: 0.9995 - val_loss: 0.0043 - val_acc: 0.9992\n",
      "Epoch 23/200\n",
      "60000/60000 [==============================] - 10s 165us/step - loss: 0.0048 - acc: 0.9992 - val_loss: 0.0027 - val_acc: 0.9997\n",
      "Epoch 24/200\n",
      "60000/60000 [==============================] - 10s 162us/step - loss: 0.0070 - acc: 0.9991 - val_loss: 0.0075 - val_acc: 0.9993\n",
      "Epoch 25/200\n",
      "60000/60000 [==============================] - 10s 160us/step - loss: 0.0062 - acc: 0.9991 - val_loss: 0.0073 - val_acc: 0.9988\n",
      "Epoch 26/200\n",
      "60000/60000 [==============================] - 10s 160us/step - loss: 0.0069 - acc: 0.9992 - val_loss: 0.0148 - val_acc: 0.9980\n",
      "Epoch 27/200\n",
      "60000/60000 [==============================] - 10s 169us/step - loss: 0.0101 - acc: 0.9987 - val_loss: 0.0033 - val_acc: 0.9994\n",
      "Epoch 28/200\n",
      "60000/60000 [==============================] - 12s 196us/step - loss: 0.0096 - acc: 0.9987 - val_loss: 0.0067 - val_acc: 0.9991\n",
      "Epoch 29/200\n",
      "60000/60000 [==============================] - 11s 184us/step - loss: 0.0077 - acc: 0.9989 - val_loss: 0.0017 - val_acc: 0.9999\n",
      "Epoch 30/200\n",
      "60000/60000 [==============================] - 11s 184us/step - loss: 0.0043 - acc: 0.9993 - val_loss: 0.0033 - val_acc: 0.9998\n",
      "Epoch 31/200\n",
      "60000/60000 [==============================] - 10s 162us/step - loss: 0.0075 - acc: 0.9992 - val_loss: 0.0146 - val_acc: 0.9971\n",
      "Epoch 32/200\n",
      "60000/60000 [==============================] - 11s 179us/step - loss: 0.0069 - acc: 0.9990 - val_loss: 0.0030 - val_acc: 0.9996\n",
      "Epoch 33/200\n",
      "60000/60000 [==============================] - 11s 178us/step - loss: 0.0060 - acc: 0.9992 - val_loss: 0.0081 - val_acc: 0.9988\n",
      "Epoch 34/200\n",
      "60000/60000 [==============================] - 10s 169us/step - loss: 0.0080 - acc: 0.9989 - val_loss: 0.0051 - val_acc: 0.9988\n",
      "Epoch 35/200\n",
      "60000/60000 [==============================] - 11s 188us/step - loss: 0.0046 - acc: 0.9993 - val_loss: 0.0060 - val_acc: 0.9992\n",
      "Epoch 36/200\n",
      "60000/60000 [==============================] - 12s 197us/step - loss: 0.0060 - acc: 0.9992 - val_loss: 0.0024 - val_acc: 0.9995\n",
      "Epoch 37/200\n",
      "60000/60000 [==============================] - 10s 162us/step - loss: 0.0056 - acc: 0.9992 - val_loss: 0.0020 - val_acc: 0.9994\n",
      "Epoch 38/200\n",
      "60000/60000 [==============================] - 10s 166us/step - loss: 0.0086 - acc: 0.9989 - val_loss: 0.0022 - val_acc: 0.9995\n",
      "Epoch 39/200\n",
      "60000/60000 [==============================] - 11s 188us/step - loss: 0.0081 - acc: 0.9989 - val_loss: 0.0073 - val_acc: 0.9986\n",
      "Epoch 40/200\n",
      "60000/60000 [==============================] - 11s 184us/step - loss: 0.0051 - acc: 0.9993 - val_loss: 0.0036 - val_acc: 0.9992\n",
      "Epoch 41/200\n",
      "60000/60000 [==============================] - 10s 172us/step - loss: 0.0076 - acc: 0.9990 - val_loss: 9.3629e-04 - val_acc: 0.9999\n",
      "Epoch 42/200\n",
      "60000/60000 [==============================] - 10s 161us/step - loss: 0.0064 - acc: 0.9992 - val_loss: 1.8042e-04 - val_acc: 1.0000\n",
      "Epoch 43/200\n",
      "60000/60000 [==============================] - 10s 160us/step - loss: 0.0073 - acc: 0.9991 - val_loss: 0.0053 - val_acc: 0.9991\n",
      "Epoch 44/200\n",
      "60000/60000 [==============================] - 10s 162us/step - loss: 0.0063 - acc: 0.9991 - val_loss: 0.0095 - val_acc: 0.9990\n",
      "Epoch 45/200\n",
      "60000/60000 [==============================] - 10s 165us/step - loss: 0.0050 - acc: 0.9993 - val_loss: 0.0032 - val_acc: 0.9993\n",
      "Epoch 46/200\n",
      "60000/60000 [==============================] - 10s 162us/step - loss: 0.0089 - acc: 0.9988 - val_loss: 0.0120 - val_acc: 0.9991\n",
      "Epoch 47/200\n",
      "60000/60000 [==============================] - 11s 176us/step - loss: 0.0063 - acc: 0.9992 - val_loss: 0.0017 - val_acc: 0.9999\n",
      "Epoch 48/200\n",
      "60000/60000 [==============================] - 10s 160us/step - loss: 0.0080 - acc: 0.9990 - val_loss: 0.0025 - val_acc: 0.9993\n",
      "Epoch 49/200\n",
      "60000/60000 [==============================] - 10s 161us/step - loss: 0.0053 - acc: 0.9992 - val_loss: 0.0056 - val_acc: 0.9993\n",
      "Epoch 50/200\n",
      "60000/60000 [==============================] - 9s 158us/step - loss: 0.0068 - acc: 0.9990 - val_loss: 0.0052 - val_acc: 0.9995\n",
      "Epoch 51/200\n",
      "60000/60000 [==============================] - 10s 161us/step - loss: 0.0089 - acc: 0.9987 - val_loss: 0.0035 - val_acc: 0.9994\n",
      "Epoch 52/200\n",
      "60000/60000 [==============================] - 10s 162us/step - loss: 0.0075 - acc: 0.9989 - val_loss: 6.1913e-04 - val_acc: 0.9999\n",
      "Epoch 53/200\n",
      "60000/60000 [==============================] - 10s 161us/step - loss: 0.0052 - acc: 0.9994 - val_loss: 0.0068 - val_acc: 0.9994\n",
      "Epoch 54/200\n",
      "60000/60000 [==============================] - 10s 162us/step - loss: 0.0072 - acc: 0.9991 - val_loss: 0.0060 - val_acc: 0.9995\n",
      "Epoch 55/200\n",
      "60000/60000 [==============================] - 10s 160us/step - loss: 0.0042 - acc: 0.9993 - val_loss: 0.0083 - val_acc: 0.9992\n",
      "Epoch 56/200\n",
      "60000/60000 [==============================] - 10s 161us/step - loss: 0.0082 - acc: 0.9990 - val_loss: 0.0043 - val_acc: 0.9993\n",
      "Epoch 57/200\n",
      "60000/60000 [==============================] - 10s 161us/step - loss: 0.0059 - acc: 0.9994 - val_loss: 0.0233 - val_acc: 0.9969\n",
      "Epoch 58/200\n"
     ]
    },
    {
     "name": "stdout",
     "output_type": "stream",
     "text": [
      "60000/60000 [==============================] - 10s 159us/step - loss: 0.0077 - acc: 0.9992 - val_loss: 0.0041 - val_acc: 0.9988\n",
      "Epoch 59/200\n",
      "60000/60000 [==============================] - 10s 161us/step - loss: 0.0067 - acc: 0.9991 - val_loss: 2.6363e-04 - val_acc: 0.9999\n",
      "Epoch 60/200\n",
      "60000/60000 [==============================] - 10s 161us/step - loss: 0.0084 - acc: 0.9990 - val_loss: 0.0061 - val_acc: 0.9985\n",
      "Epoch 61/200\n",
      "60000/60000 [==============================] - 10s 161us/step - loss: 0.0056 - acc: 0.9993 - val_loss: 0.0037 - val_acc: 0.9993\n",
      "Epoch 62/200\n",
      "60000/60000 [==============================] - 10s 161us/step - loss: 0.0077 - acc: 0.9990 - val_loss: 0.0040 - val_acc: 0.9995\n",
      "Epoch 63/200\n",
      "60000/60000 [==============================] - 10s 163us/step - loss: 0.0061 - acc: 0.9992 - val_loss: 7.1783e-04 - val_acc: 0.9998\n",
      "Epoch 64/200\n",
      "60000/60000 [==============================] - 10s 174us/step - loss: 0.0058 - acc: 0.9993 - val_loss: 7.2723e-05 - val_acc: 1.0000\n",
      "Epoch 65/200\n",
      "60000/60000 [==============================] - 10s 173us/step - loss: 0.0063 - acc: 0.9993 - val_loss: 0.0038 - val_acc: 0.9997\n",
      "Epoch 66/200\n",
      "60000/60000 [==============================] - 10s 160us/step - loss: 0.0115 - acc: 0.9987 - val_loss: 0.0073 - val_acc: 0.9993\n",
      "Epoch 67/200\n",
      "60000/60000 [==============================] - 10s 169us/step - loss: 0.0052 - acc: 0.9994 - val_loss: 0.0053 - val_acc: 0.9995\n",
      "Epoch 68/200\n",
      "60000/60000 [==============================] - 10s 165us/step - loss: 0.0046 - acc: 0.9995 - val_loss: 0.0040 - val_acc: 0.9993\n",
      "Epoch 69/200\n",
      "60000/60000 [==============================] - 10s 160us/step - loss: 0.0093 - acc: 0.9990 - val_loss: 0.0022 - val_acc: 0.9997\n",
      "Epoch 70/200\n",
      "60000/60000 [==============================] - 10s 168us/step - loss: 0.0060 - acc: 0.9993 - val_loss: 0.0117 - val_acc: 0.9987\n",
      "Epoch 71/200\n",
      "60000/60000 [==============================] - 11s 176us/step - loss: 0.0096 - acc: 0.9990 - val_loss: 0.0112 - val_acc: 0.9988\n",
      "Epoch 72/200\n",
      "60000/60000 [==============================] - 10s 163us/step - loss: 0.0061 - acc: 0.9993 - val_loss: 0.0162 - val_acc: 0.9984\n",
      "Epoch 73/200\n",
      "60000/60000 [==============================] - 10s 164us/step - loss: 0.0093 - acc: 0.9990 - val_loss: 0.0040 - val_acc: 0.9995\n",
      "Epoch 74/200\n",
      "60000/60000 [==============================] - 10s 164us/step - loss: 0.0079 - acc: 0.9991 - val_loss: 0.0077 - val_acc: 0.9992\n",
      "Epoch 75/200\n",
      "60000/60000 [==============================] - 12s 193us/step - loss: 0.0055 - acc: 0.9993 - val_loss: 0.0035 - val_acc: 0.9997\n",
      "Epoch 76/200\n",
      "60000/60000 [==============================] - 10s 174us/step - loss: 0.0066 - acc: 0.9992 - val_loss: 4.5100e-04 - val_acc: 0.9999\n",
      "Epoch 77/200\n",
      "60000/60000 [==============================] - 11s 189us/step - loss: 0.0079 - acc: 0.9991 - val_loss: 0.0057 - val_acc: 0.9996\n",
      "Epoch 78/200\n",
      "60000/60000 [==============================] - 11s 186us/step - loss: 0.0060 - acc: 0.9994 - val_loss: 0.0087 - val_acc: 0.9990\n",
      "Epoch 79/200\n",
      "60000/60000 [==============================] - 11s 186us/step - loss: 0.0064 - acc: 0.9993 - val_loss: 0.0386 - val_acc: 0.9966\n",
      "Epoch 80/200\n",
      "60000/60000 [==============================] - 12s 192us/step - loss: 0.0069 - acc: 0.9992 - val_loss: 0.0101 - val_acc: 0.9983\n",
      "Epoch 81/200\n",
      "26112/60000 [============>.................] - ETA: 6s - loss: 0.0045 - acc: 0.9994"
     ]
    },
    {
     "ename": "KeyboardInterrupt",
     "evalue": "",
     "output_type": "error",
     "traceback": [
      "\u001b[0;31m---------------------------------------------------------------------------\u001b[0m",
      "\u001b[0;31mKeyboardInterrupt\u001b[0m                         Traceback (most recent call last)",
      "\u001b[0;32m<ipython-input-50-b4de2c348d50>\u001b[0m in \u001b[0;36m<module>\u001b[0;34m()\u001b[0m\n\u001b[1;32m      1\u001b[0m history = network.fit(train_images, train_labels, \n\u001b[1;32m      2\u001b[0m                       \u001b[0mepochs\u001b[0m\u001b[0;34m=\u001b[0m\u001b[0;36m200\u001b[0m\u001b[0;34m,\u001b[0m \u001b[0mbatch_size\u001b[0m\u001b[0;34m=\u001b[0m\u001b[0;36m512\u001b[0m\u001b[0;34m,\u001b[0m\u001b[0;34m\u001b[0m\u001b[0m\n\u001b[0;32m----> 3\u001b[0;31m                       validation_data=(x_val, y_val))\n\u001b[0m",
      "\u001b[0;32m~/anaconda3/envs/tensorflowenv/lib/python3.6/site-packages/keras/models.py\u001b[0m in \u001b[0;36mfit\u001b[0;34m(self, x, y, batch_size, epochs, verbose, callbacks, validation_split, validation_data, shuffle, class_weight, sample_weight, initial_epoch, steps_per_epoch, validation_steps, **kwargs)\u001b[0m\n\u001b[1;32m    961\u001b[0m                               \u001b[0minitial_epoch\u001b[0m\u001b[0;34m=\u001b[0m\u001b[0minitial_epoch\u001b[0m\u001b[0;34m,\u001b[0m\u001b[0;34m\u001b[0m\u001b[0m\n\u001b[1;32m    962\u001b[0m                               \u001b[0msteps_per_epoch\u001b[0m\u001b[0;34m=\u001b[0m\u001b[0msteps_per_epoch\u001b[0m\u001b[0;34m,\u001b[0m\u001b[0;34m\u001b[0m\u001b[0m\n\u001b[0;32m--> 963\u001b[0;31m                               validation_steps=validation_steps)\n\u001b[0m\u001b[1;32m    964\u001b[0m \u001b[0;34m\u001b[0m\u001b[0m\n\u001b[1;32m    965\u001b[0m     def evaluate(self, x=None, y=None,\n",
      "\u001b[0;32m~/anaconda3/envs/tensorflowenv/lib/python3.6/site-packages/keras/engine/training.py\u001b[0m in \u001b[0;36mfit\u001b[0;34m(self, x, y, batch_size, epochs, verbose, callbacks, validation_split, validation_data, shuffle, class_weight, sample_weight, initial_epoch, steps_per_epoch, validation_steps, **kwargs)\u001b[0m\n\u001b[1;32m   1703\u001b[0m                               \u001b[0minitial_epoch\u001b[0m\u001b[0;34m=\u001b[0m\u001b[0minitial_epoch\u001b[0m\u001b[0;34m,\u001b[0m\u001b[0;34m\u001b[0m\u001b[0m\n\u001b[1;32m   1704\u001b[0m                               \u001b[0msteps_per_epoch\u001b[0m\u001b[0;34m=\u001b[0m\u001b[0msteps_per_epoch\u001b[0m\u001b[0;34m,\u001b[0m\u001b[0;34m\u001b[0m\u001b[0m\n\u001b[0;32m-> 1705\u001b[0;31m                               validation_steps=validation_steps)\n\u001b[0m\u001b[1;32m   1706\u001b[0m \u001b[0;34m\u001b[0m\u001b[0m\n\u001b[1;32m   1707\u001b[0m     def evaluate(self, x=None, y=None,\n",
      "\u001b[0;32m~/anaconda3/envs/tensorflowenv/lib/python3.6/site-packages/keras/engine/training.py\u001b[0m in \u001b[0;36m_fit_loop\u001b[0;34m(self, f, ins, out_labels, batch_size, epochs, verbose, callbacks, val_f, val_ins, shuffle, callback_metrics, initial_epoch, steps_per_epoch, validation_steps)\u001b[0m\n\u001b[1;32m   1233\u001b[0m                         \u001b[0mins_batch\u001b[0m\u001b[0;34m[\u001b[0m\u001b[0mi\u001b[0m\u001b[0;34m]\u001b[0m \u001b[0;34m=\u001b[0m \u001b[0mins_batch\u001b[0m\u001b[0;34m[\u001b[0m\u001b[0mi\u001b[0m\u001b[0;34m]\u001b[0m\u001b[0;34m.\u001b[0m\u001b[0mtoarray\u001b[0m\u001b[0;34m(\u001b[0m\u001b[0;34m)\u001b[0m\u001b[0;34m\u001b[0m\u001b[0m\n\u001b[1;32m   1234\u001b[0m \u001b[0;34m\u001b[0m\u001b[0m\n\u001b[0;32m-> 1235\u001b[0;31m                     \u001b[0mouts\u001b[0m \u001b[0;34m=\u001b[0m \u001b[0mf\u001b[0m\u001b[0;34m(\u001b[0m\u001b[0mins_batch\u001b[0m\u001b[0;34m)\u001b[0m\u001b[0;34m\u001b[0m\u001b[0m\n\u001b[0m\u001b[1;32m   1236\u001b[0m                     \u001b[0;32mif\u001b[0m \u001b[0;32mnot\u001b[0m \u001b[0misinstance\u001b[0m\u001b[0;34m(\u001b[0m\u001b[0mouts\u001b[0m\u001b[0;34m,\u001b[0m \u001b[0mlist\u001b[0m\u001b[0;34m)\u001b[0m\u001b[0;34m:\u001b[0m\u001b[0;34m\u001b[0m\u001b[0m\n\u001b[1;32m   1237\u001b[0m                         \u001b[0mouts\u001b[0m \u001b[0;34m=\u001b[0m \u001b[0;34m[\u001b[0m\u001b[0mouts\u001b[0m\u001b[0;34m]\u001b[0m\u001b[0;34m\u001b[0m\u001b[0m\n",
      "\u001b[0;32m~/anaconda3/envs/tensorflowenv/lib/python3.6/site-packages/keras/backend/tensorflow_backend.py\u001b[0m in \u001b[0;36m__call__\u001b[0;34m(self, inputs)\u001b[0m\n\u001b[1;32m   2476\u001b[0m         \u001b[0msession\u001b[0m \u001b[0;34m=\u001b[0m \u001b[0mget_session\u001b[0m\u001b[0;34m(\u001b[0m\u001b[0;34m)\u001b[0m\u001b[0;34m\u001b[0m\u001b[0m\n\u001b[1;32m   2477\u001b[0m         updated = session.run(fetches=fetches, feed_dict=feed_dict,\n\u001b[0;32m-> 2478\u001b[0;31m                               **self.session_kwargs)\n\u001b[0m\u001b[1;32m   2479\u001b[0m         \u001b[0;32mreturn\u001b[0m \u001b[0mupdated\u001b[0m\u001b[0;34m[\u001b[0m\u001b[0;34m:\u001b[0m\u001b[0mlen\u001b[0m\u001b[0;34m(\u001b[0m\u001b[0mself\u001b[0m\u001b[0;34m.\u001b[0m\u001b[0moutputs\u001b[0m\u001b[0;34m)\u001b[0m\u001b[0;34m]\u001b[0m\u001b[0;34m\u001b[0m\u001b[0m\n\u001b[1;32m   2480\u001b[0m \u001b[0;34m\u001b[0m\u001b[0m\n",
      "\u001b[0;32m~/anaconda3/envs/tensorflowenv/lib/python3.6/site-packages/tensorflow/python/client/session.py\u001b[0m in \u001b[0;36mrun\u001b[0;34m(self, fetches, feed_dict, options, run_metadata)\u001b[0m\n\u001b[1;32m    765\u001b[0m     \u001b[0;32mtry\u001b[0m\u001b[0;34m:\u001b[0m\u001b[0;34m\u001b[0m\u001b[0m\n\u001b[1;32m    766\u001b[0m       result = self._run(None, fetches, feed_dict, options_ptr,\n\u001b[0;32m--> 767\u001b[0;31m                          run_metadata_ptr)\n\u001b[0m\u001b[1;32m    768\u001b[0m       \u001b[0;32mif\u001b[0m \u001b[0mrun_metadata\u001b[0m\u001b[0;34m:\u001b[0m\u001b[0;34m\u001b[0m\u001b[0m\n\u001b[1;32m    769\u001b[0m         \u001b[0mproto_data\u001b[0m \u001b[0;34m=\u001b[0m \u001b[0mtf_session\u001b[0m\u001b[0;34m.\u001b[0m\u001b[0mTF_GetBuffer\u001b[0m\u001b[0;34m(\u001b[0m\u001b[0mrun_metadata_ptr\u001b[0m\u001b[0;34m)\u001b[0m\u001b[0;34m\u001b[0m\u001b[0m\n",
      "\u001b[0;32m~/anaconda3/envs/tensorflowenv/lib/python3.6/site-packages/tensorflow/python/client/session.py\u001b[0m in \u001b[0;36m_run\u001b[0;34m(self, handle, fetches, feed_dict, options, run_metadata)\u001b[0m\n\u001b[1;32m    963\u001b[0m     \u001b[0;32mif\u001b[0m \u001b[0mfinal_fetches\u001b[0m \u001b[0;32mor\u001b[0m \u001b[0mfinal_targets\u001b[0m\u001b[0;34m:\u001b[0m\u001b[0;34m\u001b[0m\u001b[0m\n\u001b[1;32m    964\u001b[0m       results = self._do_run(handle, final_targets, final_fetches,\n\u001b[0;32m--> 965\u001b[0;31m                              feed_dict_string, options, run_metadata)\n\u001b[0m\u001b[1;32m    966\u001b[0m     \u001b[0;32melse\u001b[0m\u001b[0;34m:\u001b[0m\u001b[0;34m\u001b[0m\u001b[0m\n\u001b[1;32m    967\u001b[0m       \u001b[0mresults\u001b[0m \u001b[0;34m=\u001b[0m \u001b[0;34m[\u001b[0m\u001b[0;34m]\u001b[0m\u001b[0;34m\u001b[0m\u001b[0m\n",
      "\u001b[0;32m~/anaconda3/envs/tensorflowenv/lib/python3.6/site-packages/tensorflow/python/client/session.py\u001b[0m in \u001b[0;36m_do_run\u001b[0;34m(self, handle, target_list, fetch_list, feed_dict, options, run_metadata)\u001b[0m\n\u001b[1;32m   1013\u001b[0m     \u001b[0;32mif\u001b[0m \u001b[0mhandle\u001b[0m \u001b[0;32mis\u001b[0m \u001b[0;32mNone\u001b[0m\u001b[0;34m:\u001b[0m\u001b[0;34m\u001b[0m\u001b[0m\n\u001b[1;32m   1014\u001b[0m       return self._do_call(_run_fn, self._session, feed_dict, fetch_list,\n\u001b[0;32m-> 1015\u001b[0;31m                            target_list, options, run_metadata)\n\u001b[0m\u001b[1;32m   1016\u001b[0m     \u001b[0;32melse\u001b[0m\u001b[0;34m:\u001b[0m\u001b[0;34m\u001b[0m\u001b[0m\n\u001b[1;32m   1017\u001b[0m       return self._do_call(_prun_fn, self._session, handle, feed_dict,\n",
      "\u001b[0;32m~/anaconda3/envs/tensorflowenv/lib/python3.6/site-packages/tensorflow/python/client/session.py\u001b[0m in \u001b[0;36m_do_call\u001b[0;34m(self, fn, *args)\u001b[0m\n\u001b[1;32m   1020\u001b[0m   \u001b[0;32mdef\u001b[0m \u001b[0m_do_call\u001b[0m\u001b[0;34m(\u001b[0m\u001b[0mself\u001b[0m\u001b[0;34m,\u001b[0m \u001b[0mfn\u001b[0m\u001b[0;34m,\u001b[0m \u001b[0;34m*\u001b[0m\u001b[0margs\u001b[0m\u001b[0;34m)\u001b[0m\u001b[0;34m:\u001b[0m\u001b[0;34m\u001b[0m\u001b[0m\n\u001b[1;32m   1021\u001b[0m     \u001b[0;32mtry\u001b[0m\u001b[0;34m:\u001b[0m\u001b[0;34m\u001b[0m\u001b[0m\n\u001b[0;32m-> 1022\u001b[0;31m       \u001b[0;32mreturn\u001b[0m \u001b[0mfn\u001b[0m\u001b[0;34m(\u001b[0m\u001b[0;34m*\u001b[0m\u001b[0margs\u001b[0m\u001b[0;34m)\u001b[0m\u001b[0;34m\u001b[0m\u001b[0m\n\u001b[0m\u001b[1;32m   1023\u001b[0m     \u001b[0;32mexcept\u001b[0m \u001b[0merrors\u001b[0m\u001b[0;34m.\u001b[0m\u001b[0mOpError\u001b[0m \u001b[0;32mas\u001b[0m \u001b[0me\u001b[0m\u001b[0;34m:\u001b[0m\u001b[0;34m\u001b[0m\u001b[0m\n\u001b[1;32m   1024\u001b[0m       \u001b[0mmessage\u001b[0m \u001b[0;34m=\u001b[0m \u001b[0mcompat\u001b[0m\u001b[0;34m.\u001b[0m\u001b[0mas_text\u001b[0m\u001b[0;34m(\u001b[0m\u001b[0me\u001b[0m\u001b[0;34m.\u001b[0m\u001b[0mmessage\u001b[0m\u001b[0;34m)\u001b[0m\u001b[0;34m\u001b[0m\u001b[0m\n",
      "\u001b[0;32m~/anaconda3/envs/tensorflowenv/lib/python3.6/site-packages/tensorflow/python/client/session.py\u001b[0m in \u001b[0;36m_run_fn\u001b[0;34m(session, feed_dict, fetch_list, target_list, options, run_metadata)\u001b[0m\n\u001b[1;32m   1002\u001b[0m         return tf_session.TF_Run(session, options,\n\u001b[1;32m   1003\u001b[0m                                  \u001b[0mfeed_dict\u001b[0m\u001b[0;34m,\u001b[0m \u001b[0mfetch_list\u001b[0m\u001b[0;34m,\u001b[0m \u001b[0mtarget_list\u001b[0m\u001b[0;34m,\u001b[0m\u001b[0;34m\u001b[0m\u001b[0m\n\u001b[0;32m-> 1004\u001b[0;31m                                  status, run_metadata)\n\u001b[0m\u001b[1;32m   1005\u001b[0m \u001b[0;34m\u001b[0m\u001b[0m\n\u001b[1;32m   1006\u001b[0m     \u001b[0;32mdef\u001b[0m \u001b[0m_prun_fn\u001b[0m\u001b[0;34m(\u001b[0m\u001b[0msession\u001b[0m\u001b[0;34m,\u001b[0m \u001b[0mhandle\u001b[0m\u001b[0;34m,\u001b[0m \u001b[0mfeed_dict\u001b[0m\u001b[0;34m,\u001b[0m \u001b[0mfetch_list\u001b[0m\u001b[0;34m)\u001b[0m\u001b[0;34m:\u001b[0m\u001b[0;34m\u001b[0m\u001b[0m\n",
      "\u001b[0;31mKeyboardInterrupt\u001b[0m: "
     ]
    }
   ],
   "source": [
    "history = network.fit(train_images, train_labels, \n",
    "                      epochs=200, batch_size=512,\n",
    "                      validation_data=(x_val, y_val))"
   ]
  },
  {
   "cell_type": "markdown",
   "metadata": {},
   "source": [
    "- Plot the validation set accuracy and loss over the epochs"
   ]
  },
  {
   "cell_type": "code",
   "execution_count": 51,
   "metadata": {},
   "outputs": [
    {
     "data": {
      "text/plain": [
       "dict_keys(['val_loss', 'val_acc', 'loss', 'acc'])"
      ]
     },
     "execution_count": 51,
     "metadata": {},
     "output_type": "execute_result"
    }
   ],
   "source": [
    "history_dict = history.history\n",
    "history_dict.keys()"
   ]
  },
  {
   "cell_type": "code",
   "execution_count": 54,
   "metadata": {},
   "outputs": [
    {
     "data": {
      "image/png": "[encoded data removed]",
      "text/plain": [
       "<Figure size 432x288 with 1 Axes>"
      ]
     },
     "metadata": {},
     "output_type": "display_data"
    }
   ],
   "source": [
    "acc = history.history['acc']\n",
    "val_acc = history.history['val_acc']\n",
    "loss = history.history['loss']\n",
    "val_loss = history.history['val_loss']\n",
    "\n",
    "epochs = range(1, len(acc) + 1)\n",
    "\n",
    "# \"bo\" is for \"blue dot\"\n",
    "plt.plot(epochs, loss, 'bo', label='Training loss')\n",
    "# b is for \"solid blue line\"\n",
    "plt.plot(epochs, val_loss, 'b', label='Validation loss')\n",
    "plt.title('Training and validation loss')\n",
    "plt.xlabel('Epochs')\n",
    "plt.ylabel('Loss')\n",
    "plt.legend()\n",
    "\n",
    "plt.show()"
   ]
  },
  {
   "cell_type": "code",
   "execution_count": 55,
   "metadata": {},
   "outputs": [
    {
     "data": {
      "image/png": "[encoded data removed]",
      "text/plain": [
       "<Figure size 432x288 with 1 Axes>"
      ]
     },
     "metadata": {},
     "output_type": "display_data"
    }
   ],
   "source": [
    "plt.clf()   # clear figure\n",
    "acc_values = history_dict['acc']\n",
    "val_acc_values = history_dict['val_acc']\n",
    "\n",
    "plt.plot(epochs, acc, 'bo', label='Training acc')\n",
    "plt.plot(epochs, val_acc, 'b', label='Validation acc')\n",
    "plt.title('Training and validation accuracy')\n",
    "plt.xlabel('Epochs')\n",
    "plt.ylabel('Loss')\n",
    "plt.legend()\n",
    "\n",
    "plt.show()"
   ]
  },
  {
   "cell_type": "markdown",
   "metadata": {},
   "source": [
    "Implement dropout"
   ]
  },
  {
   "cell_type": "markdown",
   "metadata": {},
   "source": [
    "- Implement layer dropout after each layer from model 1 (except the last)\n",
    "- Use a dropout rate of 0.5\n"
   ]
  },
  {
   "cell_type": "code",
   "execution_count": null,
   "metadata": {},
   "outputs": [],
   "source": []
  }
 ],
 "metadata": {
  "kernelspec": {
   "display_name": "Python 3",
   "language": "python",
   "name": "python3"
  },
  "language_info": {
   "codemirror_mode": {
    "name": "ipython",
    "version": 3
   },
   "file_extension": ".py",
   "mimetype": "text/x-python",
   "name": "python",
   "nbconvert_exporter": "python",
   "pygments_lexer": "ipython3",
   "version": "3.6.5"
  }
 },
 "nbformat": 4,
 "nbformat_minor": 2
}
