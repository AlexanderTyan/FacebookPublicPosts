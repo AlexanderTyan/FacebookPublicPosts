{
 "cells": [
  {
   "cell_type": "markdown",
   "metadata": {},
   "source": [
    "# Problem Set 3\n",
    "# Alexander Tyan"
   ]
  },
  {
   "cell_type": "markdown",
   "metadata": {},
   "source": [
    "## Part 1: Image classification (5 points)"
   ]
  },
  {
   "cell_type": "code",
   "execution_count": 45,
   "metadata": {},
   "outputs": [],
   "source": [
    "import random\n",
    "import seaborn as sns\n",
    "from keras.datasets import mnist\n",
    "from keras.datasets import boston_housing\n",
    "from keras import models\n",
    "from keras import layers\n",
    "from keras import optimizers\n",
    "from keras import regularizers\n",
    "from keras.utils import to_categorical\n",
    "import matplotlib.pyplot as plt\n",
    "from sklearn.model_selection import KFold\n",
    "from sklearn.cross_validation import train_test_split\n",
    "keras.__version__\n",
    "sns.set()"
   ]
  },
  {
   "cell_type": "markdown",
   "metadata": {},
   "source": [
    "Set your random seed to 1234"
   ]
  },
  {
   "cell_type": "code",
   "execution_count": 3,
   "metadata": {},
   "outputs": [],
   "source": [
    "random.seed(1234)"
   ]
  },
  {
   "cell_type": "markdown",
   "metadata": {},
   "source": [
    "Load the MNIST dataset"
   ]
  },
  {
   "cell_type": "code",
   "execution_count": 4,
   "metadata": {},
   "outputs": [],
   "source": [
    "(train_images, train_labels), (test_images, test_labels) = mnist.load_data()"
   ]
  },
  {
   "cell_type": "markdown",
   "metadata": {},
   "source": [
    "Preprocess the data by converting the data to a 2D tensor with individual values between 0 and 1"
   ]
  },
  {
   "cell_type": "code",
   "execution_count": 5,
   "metadata": {},
   "outputs": [],
   "source": [
    "train_images = train_images.reshape((60000, 28 * 28))\n",
    "train_images = train_images.astype('float32') / 255\n",
    "test_images = test_images.reshape((10000, 28 * 28))\n",
    "test_images = test_images.astype('float32') / 255\n",
    "train_labels = to_categorical(train_labels)\n",
    "test_labels = to_categorical(test_labels)"
   ]
  },
  {
   "cell_type": "markdown",
   "metadata": {},
   "source": [
    "Randomly split the training data into 50,000 training observations and 10,000 validation observations"
   ]
  },
  {
   "cell_type": "code",
   "execution_count": 20,
   "metadata": {},
   "outputs": [],
   "source": [
    "partial_x_train, x_val, partial_y_train, y_val = train_test_split(train_images, train_labels, test_size=(1/6), random_state=25)"
   ]
  },
  {
   "cell_type": "markdown",
   "metadata": {},
   "source": [
    "Implement a series of neural network models\n",
    "- 5 dense, fully-connected layers\n",
    "- relu activation except for the last layer (use softmax)\n",
    "- Initialize with 512 hidden units apiece (except for the last layer)\n",
    "- Use rmsprop optimizer\n",
    "- Use categorical crossentropy for loss function\n",
    "- Train with batch_size = 512 and 200 epochs\n",
    "- Track validation set accuracy during training process"
   ]
  },
  {
   "cell_type": "code",
   "execution_count": 39,
   "metadata": {},
   "outputs": [],
   "source": [
    "epochs_num = 10#200\n",
    "batch_size = 512\n",
    "hidden_nodes = 512"
   ]
  },
  {
   "cell_type": "code",
   "execution_count": 23,
   "metadata": {},
   "outputs": [
    {
     "name": "stdout",
     "output_type": "stream",
     "text": [
      "Train on 50000 samples, validate on 10000 samples\n",
      "Epoch 1/10\n",
      "50000/50000 [==============================] - 8s 158us/step - loss: 0.0078 - acc: 0.9981 - val_loss: 0.1386 - val_acc: 0.9837\n",
      "Epoch 2/10\n",
      "50000/50000 [==============================] - 9s 184us/step - loss: 0.0063 - acc: 0.9986 - val_loss: 0.1619 - val_acc: 0.9818\n",
      "Epoch 3/10\n",
      "50000/50000 [==============================] - 9s 188us/step - loss: 0.0098 - acc: 0.9982 - val_loss: 0.1688 - val_acc: 0.9769\n",
      "Epoch 4/10\n",
      "50000/50000 [==============================] - 9s 172us/step - loss: 0.0064 - acc: 0.9986 - val_loss: 0.1857 - val_acc: 0.9794\n",
      "Epoch 5/10\n",
      "50000/50000 [==============================] - 9s 188us/step - loss: 0.0079 - acc: 0.9985 - val_loss: 0.1548 - val_acc: 0.9819\n",
      "Epoch 6/10\n",
      "50000/50000 [==============================] - 9s 178us/step - loss: 0.0084 - acc: 0.9985 - val_loss: 0.1587 - val_acc: 0.9817\n",
      "Epoch 7/10\n",
      "50000/50000 [==============================] - 8s 168us/step - loss: 0.0050 - acc: 0.9989 - val_loss: 0.1649 - val_acc: 0.9815\n",
      "Epoch 8/10\n",
      "50000/50000 [==============================] - 8s 169us/step - loss: 0.0079 - acc: 0.9986 - val_loss: 0.1712 - val_acc: 0.9809\n",
      "Epoch 9/10\n",
      "50000/50000 [==============================] - 9s 173us/step - loss: 0.0061 - acc: 0.9988 - val_loss: 0.1790 - val_acc: 0.9806\n",
      "Epoch 10/10\n",
      "50000/50000 [==============================] - 9s 174us/step - loss: 0.0100 - acc: 0.9982 - val_loss: 0.1746 - val_acc: 0.9798\n"
     ]
    }
   ],
   "source": [
    "model_1 = models.Sequential()\n",
    "model_1.add(layers.Dense(hidden_nodes, activation='relu', input_shape=(28 * 28,)))\n",
    "model_1.add(layers.Dense(hidden_nodes, activation='relu'))\n",
    "model_1.add(layers.Dense(hidden_nodes, activation='relu'))\n",
    "model_1.add(layers.Dense(hidden_nodes, activation='relu'))\n",
    "model_1.add(layers.Dense(10, activation='softmax'))\n",
    "\n",
    "model_1.compile(optimizer='rmsprop',\n",
    "                loss='categorical_crossentropy',\n",
    "                metrics=['accuracy'])\n",
    "\n",
    "history_1 = network.fit(partial_x_train, partial_y_train, \n",
    "                        epochs=epochs_num, batch_size=batch_size,\n",
    "                        validation_data=(x_val, y_val))"
   ]
  },
  {
   "cell_type": "markdown",
   "metadata": {},
   "source": [
    "- Plot the validation set accuracy and loss over the epochs"
   ]
  },
  {
   "cell_type": "code",
   "execution_count": 27,
   "metadata": {},
   "outputs": [
    {
     "data": {
      "image/png": "[encoded data removed]",
      "text/plain": [
       "<Figure size 432x288 with 1 Axes>"
      ]
     },
     "metadata": {},
     "output_type": "display_data"
    }
   ],
   "source": [
    "acc = history_1.history['acc']\n",
    "val_acc = history_1.history['val_acc']\n",
    "loss = history_1.history['loss']\n",
    "val_loss = history_1.history['val_loss']\n",
    "\n",
    "epochs = range(1, len(acc) + 1)\n",
    "\n",
    "plt.plot(epochs, loss, 'r', label='Training loss')\n",
    "plt.plot(epochs, val_loss, 'b', label='Validation loss')\n",
    "plt.title('Training and validation loss')\n",
    "plt.xlabel('Epochs')\n",
    "plt.ylabel('Loss')\n",
    "plt.legend()\n",
    "\n",
    "plt.show()"
   ]
  },
  {
   "cell_type": "code",
   "execution_count": 28,
   "metadata": {},
   "outputs": [
    {
     "data": {
      "image/png": "[encoded data removed]",
      "text/plain": [
       "<Figure size 432x288 with 1 Axes>"
      ]
     },
     "metadata": {},
     "output_type": "display_data"
    }
   ],
   "source": [
    "plt.clf()   # clear figure\n",
    "\n",
    "plt.plot(epochs, acc, 'r', label='Training acc')\n",
    "plt.plot(epochs, val_acc, 'b', label='Validation acc')\n",
    "plt.title('Training and validation accuracy')\n",
    "plt.xlabel('Epochs')\n",
    "plt.ylabel('Loss')\n",
    "plt.legend()\n",
    "\n",
    "plt.show()"
   ]
  },
  {
   "cell_type": "code",
   "execution_count": null,
   "metadata": {},
   "outputs": [],
   "source": []
  },
  {
   "cell_type": "markdown",
   "metadata": {},
   "source": [
    "Implement dropout"
   ]
  },
  {
   "cell_type": "markdown",
   "metadata": {},
   "source": [
    "- Implement layer dropout after each layer from model 1 (except the last)\n",
    "- Use a dropout rate of 0.5\n"
   ]
  },
  {
   "cell_type": "code",
   "execution_count": 41,
   "metadata": {},
   "outputs": [],
   "source": [
    "model_drop = models.Sequential()\n",
    "model_drop.add(layers.Dense(hidden_nodes, activation='relu', input_shape=(28 * 28,)))\n",
    "model_drop.add(layers.Dropout(0.5))\n",
    "model_drop.add(layers.Dense(hidden_nodes, activation='relu'))\n",
    "model_drop.add(layers.Dropout(0.5))\n",
    "model_drop.add(layers.Dense(hidden_nodes, activation='relu'))\n",
    "model_drop.add(layers.Dropout(0.5))\n",
    "model_drop.add(layers.Dense(hidden_nodes, activation='relu'))\n",
    "model_drop.add(layers.Dropout(0.5))\n",
    "model_drop.add(layers.Dense(10, activation='softmax'))\n",
    "\n",
    "model_drop.compile(optimizer='rmsprop',\n",
    "                loss='categorical_crossentropy',\n",
    "                metrics=['accuracy'])"
   ]
  },
  {
   "cell_type": "markdown",
   "metadata": {},
   "source": [
    "- Estimate the model, and graphically compare the validation loss across epochs to the initial model. How does this new model perform relative to the old model?"
   ]
  },
  {
   "cell_type": "code",
   "execution_count": 42,
   "metadata": {},
   "outputs": [
    {
     "name": "stdout",
     "output_type": "stream",
     "text": [
      "Train on 50000 samples, validate on 10000 samples\n",
      "Epoch 1/10\n",
      "50000/50000 [==============================] - 10s 206us/step - loss: 0.7206 - acc: 0.7622 - val_loss: 0.2466 - val_acc: 0.9265\n",
      "Epoch 2/10\n",
      "50000/50000 [==============================] - 12s 243us/step - loss: 0.2698 - acc: 0.9226 - val_loss: 0.2091 - val_acc: 0.9376\n",
      "Epoch 3/10\n",
      "50000/50000 [==============================] - 11s 225us/step - loss: 0.1955 - acc: 0.9436 - val_loss: 0.1429 - val_acc: 0.9606\n",
      "Epoch 4/10\n",
      "50000/50000 [==============================] - 11s 211us/step - loss: 0.1618 - acc: 0.9539 - val_loss: 0.1217 - val_acc: 0.9683\n",
      "Epoch 5/10\n",
      "50000/50000 [==============================] - 10s 206us/step - loss: 0.1453 - acc: 0.9586 - val_loss: 0.1073 - val_acc: 0.9708\n",
      "Epoch 6/10\n",
      "50000/50000 [==============================] - 10s 207us/step - loss: 0.1246 - acc: 0.9647 - val_loss: 0.1029 - val_acc: 0.9745\n",
      "Epoch 7/10\n",
      "50000/50000 [==============================] - 10s 202us/step - loss: 0.1133 - acc: 0.9674 - val_loss: 0.1031 - val_acc: 0.9736\n",
      "Epoch 8/10\n",
      "50000/50000 [==============================] - 10s 204us/step - loss: 0.1070 - acc: 0.9703 - val_loss: 0.0921 - val_acc: 0.9759\n",
      "Epoch 9/10\n",
      "50000/50000 [==============================] - 11s 210us/step - loss: 0.0984 - acc: 0.9722 - val_loss: 0.0930 - val_acc: 0.9757\n",
      "Epoch 10/10\n",
      "50000/50000 [==============================] - 10s 203us/step - loss: 0.0953 - acc: 0.9737 - val_loss: 0.0872 - val_acc: 0.9781\n"
     ]
    }
   ],
   "source": [
    "history_drop = model_drop.fit(partial_x_train, partial_y_train, \n",
    "                              epochs=epochs_num, batch_size=batch_size, \n",
    "                              validation_data=(x_val, y_val))"
   ]
  },
  {
   "cell_type": "code",
   "execution_count": 37,
   "metadata": {},
   "outputs": [
    {
     "data": {
      "image/png": "[encoded data removed]",
      "text/plain": [
       "<Figure size 432x288 with 1 Axes>"
      ]
     },
     "metadata": {},
     "output_type": "display_data"
    }
   ],
   "source": [
    "plt.clf()   # clear figure\n",
    "#acc_drop = history_drop.history['acc']\n",
    "#val_acc_drop = history_drop.history['val_acc']\n",
    "loss_drop = history_drop.history['loss']\n",
    "val_loss_drop = history_drop.history['val_loss']\n",
    "\n",
    "epochs = range(1, len(acc) + 1)\n",
    "\n",
    "plt.plot(epochs, loss, 'pink', label='Training loss - Base')\n",
    "plt.plot(epochs, val_loss, 'r', label='Validation loss - Base')\n",
    "plt.plot(epochs, loss_drop, 'skyblue', label='Training loss - Drop')\n",
    "plt.plot(epochs, val_loss_drop, 'b', label='Validation loss - Drop')\n",
    "plt.title('Training and validation loss with Drop = 0.5')\n",
    "plt.xlabel('Epochs')\n",
    "plt.ylabel('Loss')\n",
    "plt.legend()\n",
    "\n",
    "plt.show()"
   ]
  },
  {
   "cell_type": "markdown",
   "metadata": {},
   "source": [
    "Weight regularization\n"
   ]
  },
  {
   "cell_type": "markdown",
   "metadata": {},
   "source": [
    "- Reestimate the initial model with L1 weight regularization on each layer (except the final layer) with a 0.001 penalty for each weight coefficient"
   ]
  },
  {
   "cell_type": "code",
   "execution_count": 26,
   "metadata": {},
   "outputs": [
    {
     "name": "stdout",
     "output_type": "stream",
     "text": [
      "Train on 50000 samples, validate on 10000 samples\n",
      "Epoch 1/10\n",
      "50000/50000 [==============================] - 9s 188us/step - loss: 13.5230 - acc: 0.6713 - val_loss: 4.3020 - val_acc: 0.6154\n",
      "Epoch 2/10\n",
      "50000/50000 [==============================] - 9s 188us/step - loss: 3.0824 - acc: 0.7839 - val_loss: 2.4047 - val_acc: 0.8643\n",
      "Epoch 3/10\n",
      "50000/50000 [==============================] - 9s 179us/step - loss: 2.2506 - acc: 0.8277 - val_loss: 2.0317 - val_acc: 0.8487\n",
      "Epoch 4/10\n",
      "50000/50000 [==============================] - 9s 189us/step - loss: 1.9090 - acc: 0.8555 - val_loss: 1.7730 - val_acc: 0.8749\n",
      "Epoch 5/10\n",
      "50000/50000 [==============================] - 9s 187us/step - loss: 1.7178 - acc: 0.8724 - val_loss: 1.6819 - val_acc: 0.8720\n",
      "Epoch 6/10\n",
      "50000/50000 [==============================] - 9s 186us/step - loss: 1.5954 - acc: 0.8830 - val_loss: 1.5502 - val_acc: 0.8887\n",
      "Epoch 7/10\n",
      "50000/50000 [==============================] - 9s 176us/step - loss: 1.5051 - acc: 0.8911 - val_loss: 1.4574 - val_acc: 0.9026\n",
      "Epoch 8/10\n",
      "50000/50000 [==============================] - 9s 187us/step - loss: 1.4346 - acc: 0.9000 - val_loss: 1.4061 - val_acc: 0.9054\n",
      "Epoch 9/10\n",
      "50000/50000 [==============================] - 9s 187us/step - loss: 1.3876 - acc: 0.9043 - val_loss: 1.3399 - val_acc: 0.9182\n",
      "Epoch 10/10\n",
      "50000/50000 [==============================] - 9s 182us/step - loss: 1.3440 - acc: 0.9110 - val_loss: 1.3168 - val_acc: 0.9198\n"
     ]
    }
   ],
   "source": [
    "model_l1 = models.Sequential()\n",
    "model_l1.add(layers.Dense(hidden_nodes, kernel_regularizer=regularizers.l1(0.001),\n",
    "                          activation='relu', input_shape=(28 * 28,)))\n",
    "model_l1.add(layers.Dense(hidden_nodes, kernel_regularizer=regularizers.l1(0.001),\n",
    "                          activation='relu'))\n",
    "model_l1.add(layers.Dense(hidden_nodes, kernel_regularizer=regularizers.l1(0.001),\n",
    "                          activation='relu'))\n",
    "model_l1.add(layers.Dense(hidden_nodes, kernel_regularizer=regularizers.l1(0.001),\n",
    "                          activation='relu'))\n",
    "model_l1.add(layers.Dense(10, activation='softmax'))\n",
    "\n",
    "model_l1.compile(optimizer='rmsprop',\n",
    "                loss='categorical_crossentropy',\n",
    "                metrics=['accuracy'])\n",
    "\n",
    "history_l1 = model_l1.fit(partial_x_train, partial_y_train,\n",
    "                          epochs=epochs_num, batch_size=batch_size,\n",
    "                          validation_data=(x_val, y_val))"
   ]
  },
  {
   "cell_type": "markdown",
   "metadata": {},
   "source": [
    "- Reestimate the initial model with L2 weight regularization on each layer (except the final layer) with a 0.001 penalty for each weight coefficient"
   ]
  },
  {
   "cell_type": "code",
   "execution_count": 25,
   "metadata": {},
   "outputs": [
    {
     "name": "stdout",
     "output_type": "stream",
     "text": [
      "Train on 50000 samples, validate on 10000 samples\n",
      "Epoch 1/10\n",
      "50000/50000 [==============================] - 9s 180us/step - loss: 1.8061 - acc: 0.8267 - val_loss: 1.3228 - val_acc: 0.8477\n",
      "Epoch 2/10\n",
      "50000/50000 [==============================] - 9s 183us/step - loss: 0.8365 - acc: 0.9354 - val_loss: 0.6422 - val_acc: 0.9461\n",
      "Epoch 3/10\n",
      "50000/50000 [==============================] - 10s 195us/step - loss: 0.5285 - acc: 0.9527 - val_loss: 0.4266 - val_acc: 0.9602\n",
      "Epoch 4/10\n",
      "50000/50000 [==============================] - 9s 175us/step - loss: 0.3938 - acc: 0.9597 - val_loss: 0.3341 - val_acc: 0.9686\n",
      "Epoch 5/10\n",
      "50000/50000 [==============================] - 10s 207us/step - loss: 0.3266 - acc: 0.9646 - val_loss: 0.2843 - val_acc: 0.9719\n",
      "Epoch 6/10\n",
      "50000/50000 [==============================] - 10s 207us/step - loss: 0.2844 - acc: 0.9684 - val_loss: 0.2684 - val_acc: 0.9718\n",
      "Epoch 7/10\n",
      "50000/50000 [==============================] - 11s 210us/step - loss: 0.2546 - acc: 0.9714 - val_loss: 0.2481 - val_acc: 0.9723\n",
      "Epoch 8/10\n",
      "50000/50000 [==============================] - 10s 201us/step - loss: 0.2342 - acc: 0.9743 - val_loss: 0.2302 - val_acc: 0.9720\n",
      "Epoch 9/10\n",
      "50000/50000 [==============================] - 10s 198us/step - loss: 0.2184 - acc: 0.9752 - val_loss: 0.2520 - val_acc: 0.9656\n",
      "Epoch 10/10\n",
      "50000/50000 [==============================] - 10s 200us/step - loss: 0.2078 - acc: 0.9766 - val_loss: 0.2226 - val_acc: 0.9707\n"
     ]
    }
   ],
   "source": [
    "model_l2 = models.Sequential()\n",
    "model_l2.add(layers.Dense(hidden_nodes, kernel_regularizer=regularizers.l2(0.001),\n",
    "                          activation='relu', input_shape=(28 * 28,)))\n",
    "model_l2.add(layers.Dense(hidden_nodes, kernel_regularizer=regularizers.l2(0.001),\n",
    "                          activation='relu'))\n",
    "model_l2.add(layers.Dense(hidden_nodes, kernel_regularizer=regularizers.l2(0.001),\n",
    "                          activation='relu'))\n",
    "model_l2.add(layers.Dense(hidden_nodes, kernel_regularizer=regularizers.l2(0.001),\n",
    "                          activation='relu'))\n",
    "model_l2.add(layers.Dense(10, activation='softmax'))\n",
    "\n",
    "model_l2.compile(optimizer='rmsprop',\n",
    "                loss='categorical_crossentropy',\n",
    "                metrics=['accuracy'])\n",
    "\n",
    "history_l2 = model_l2.fit(partial_x_train, partial_y_train,\n",
    "                          epochs=epochs_num, batch_size=batch_size,\n",
    "                          validation_data=(x_val, y_val))"
   ]
  },
  {
   "cell_type": "markdown",
   "metadata": {},
   "source": [
    "- Plot the validation loss for the initial model vs. the dropout vs. the L1 regularized model vs. the L2 regularized model - which model appears to perform the best?"
   ]
  },
  {
   "cell_type": "code",
   "execution_count": 35,
   "metadata": {},
   "outputs": [
    {
     "data": {
      "image/png": "[encoded data removed]",
      "text/plain": [
       "<Figure size 432x288 with 1 Axes>"
      ]
     },
     "metadata": {},
     "output_type": "display_data"
    }
   ],
   "source": [
    "plt.clf()   # clear figure\n",
    "\n",
    "val_l1 = history_l1.history['val_loss']\n",
    "val_l2 = history_l2.history['val_loss']\n",
    "\n",
    "epochs = range(1, len(acc) + 1)\n",
    "\n",
    "plt.plot(epochs, val_loss, 'r', label='Validation loss - Base')\n",
    "plt.plot(epochs, val_loss_drop, 'b', label='Validation loss - Drop')\n",
    "plt.plot(epochs, val_l1, 'g', label='Validation loss - L1')\n",
    "plt.plot(epochs, val_l2, 'y', label='Validation loss - L2')\n",
    "plt.title('Validation Loss Comparison')\n",
    "plt.xlabel('Epochs')\n",
    "plt.ylabel('Loss')\n",
    "plt.legend()\n",
    "\n",
    "plt.show()"
   ]
  },
  {
   "cell_type": "markdown",
   "metadata": {},
   "source": [
    "Final model"
   ]
  },
  {
   "cell_type": "markdown",
   "metadata": {},
   "source": [
    "- Select the best model from the ones you have estimated so far - this should have the lowest validation loss score at any potential epoch"
   ]
  },
  {
   "cell_type": "code",
   "execution_count": null,
   "metadata": {},
   "outputs": [],
   "source": []
  },
  {
   "cell_type": "markdown",
   "metadata": {},
   "source": [
    "- Reestimate that model using all of the training data (no validation set) with the same batch size and the number of epochs necessary to achieve the lowest validation loss in the previous step"
   ]
  },
  {
   "cell_type": "code",
   "execution_count": 54,
   "metadata": {},
   "outputs": [
    {
     "name": "stdout",
     "output_type": "stream",
     "text": [
      "Epoch 1/10\n",
      "60000/60000 [==============================] - 13s 212us/step - loss: 0.6452 - acc: 0.7899\n",
      "Epoch 2/10\n",
      "60000/60000 [==============================] - 13s 223us/step - loss: 0.2459 - acc: 0.9288\n",
      "Epoch 3/10\n",
      "60000/60000 [==============================] - 12s 200us/step - loss: 0.1852 - acc: 0.9465\n",
      "Epoch 4/10\n",
      "60000/60000 [==============================] - 12s 201us/step - loss: 0.1550 - acc: 0.9563\n",
      "Epoch 5/10\n",
      "60000/60000 [==============================] - 12s 196us/step - loss: 0.1358 - acc: 0.9613\n",
      "Epoch 6/10\n",
      "60000/60000 [==============================] - 12s 199us/step - loss: 0.1238 - acc: 0.9658\n",
      "Epoch 7/10\n",
      "60000/60000 [==============================] - 12s 206us/step - loss: 0.1109 - acc: 0.9688\n",
      "Epoch 8/10\n",
      "60000/60000 [==============================] - 11s 191us/step - loss: 0.1014 - acc: 0.9721\n",
      "Epoch 9/10\n",
      "60000/60000 [==============================] - 11s 191us/step - loss: 0.0957 - acc: 0.9736\n",
      "Epoch 10/10\n",
      "60000/60000 [==============================] - 12s 192us/step - loss: 0.0908 - acc: 0.9751\n"
     ]
    }
   ],
   "source": [
    "model_drop = models.Sequential()\n",
    "model_drop.add(layers.Dense(hidden_nodes, activation='relu', input_shape=(28 * 28,)))\n",
    "model_drop.add(layers.Dropout(0.5))\n",
    "model_drop.add(layers.Dense(hidden_nodes, activation='relu'))\n",
    "model_drop.add(layers.Dropout(0.5))\n",
    "model_drop.add(layers.Dense(hidden_nodes, activation='relu'))\n",
    "model_drop.add(layers.Dropout(0.5))\n",
    "model_drop.add(layers.Dense(hidden_nodes, activation='relu'))\n",
    "model_drop.add(layers.Dropout(0.5))\n",
    "model_drop.add(layers.Dense(10, activation='softmax'))\n",
    "\n",
    "model_drop.compile(optimizer='rmsprop',\n",
    "                loss='categorical_crossentropy',\n",
    "                metrics=['accuracy'])\n",
    "\n",
    "history_drop_full = model_drop.fit(train_images, train_labels,\n",
    "                                   epochs=epochs_num, batch_size=batch_size)"
   ]
  },
  {
   "cell_type": "markdown",
   "metadata": {},
   "source": [
    "- Calcuate the test set loss and accuracy. How well does your model perform to the baseline from chapter 2.1 in the book?"
   ]
  },
  {
   "cell_type": "code",
   "execution_count": 55,
   "metadata": {},
   "outputs": [
    {
     "name": "stdout",
     "output_type": "stream",
     "text": [
      "10000/10000 [==============================] - 1s 138us/step\n",
      "Test set loss: 0.079890051269\n"
     ]
    }
   ],
   "source": [
    "test_loss, test_acc = model_drop.evaluate(test_images, test_labels)\n",
    "print('Test set loss:', test_loss)"
   ]
  },
  {
   "cell_type": "code",
   "execution_count": 56,
   "metadata": {},
   "outputs": [
    {
     "name": "stdout",
     "output_type": "stream",
     "text": [
      "Baseline accuracy from book: 0.9777\n",
      "Model accuracy: 0.9806\n"
     ]
    }
   ],
   "source": [
    "print('Baseline accuracy from book: 0.9777')\n",
    "print('Model accuracy:', test_acc)"
   ]
  },
  {
   "cell_type": "code",
   "execution_count": null,
   "metadata": {},
   "outputs": [],
   "source": []
  },
  {
   "cell_type": "markdown",
   "metadata": {},
   "source": [
    "## Part 2: Scalar regression (5 points)"
   ]
  },
  {
   "cell_type": "markdown",
   "metadata": {},
   "source": [
    "- Use the Boston housing dataset from chapter 3.6 to predict median housing markets using a deep learning model\n",
    "- Use 10-fold cross validation to monitor validation set performance"
   ]
  },
  {
   "cell_type": "code",
   "execution_count": 57,
   "metadata": {},
   "outputs": [],
   "source": [
    "(train_data, train_targets), (test_data, test_targets) =  boston_housing.load_data()"
   ]
  },
  {
   "cell_type": "code",
   "execution_count": 58,
   "metadata": {},
   "outputs": [],
   "source": [
    "# Prepare data, normalizing:\n",
    "mean = train_data.mean(axis=0)\n",
    "train_data -= mean\n",
    "std = train_data.std(axis=0)\n",
    "train_data /= std\n",
    "\n",
    "test_data -= mean\n",
    "test_data /= std"
   ]
  },
  {
   "cell_type": "code",
   "execution_count": 59,
   "metadata": {},
   "outputs": [],
   "source": [
    "def build_model():\n",
    "    # Because we will need to instantiate\n",
    "    # the same model multiple times,\n",
    "    # we use a function to construct it.\n",
    "    model = models.Sequential()\n",
    "    model.add(layers.Dense(64, activation='relu',\n",
    "                           input_shape=(train_data.shape[1],)))\n",
    "    model.add(layers.Dense(64, activation='relu'))\n",
    "    model.add(layers.Dense(1))\n",
    "    model.compile(optimizer='rmsprop', loss='mse', metrics=['mae'])\n",
    "    return model"
   ]
  },
  {
   "cell_type": "code",
   "execution_count": null,
   "metadata": {},
   "outputs": [],
   "source": []
  }
 ],
 "metadata": {
  "kernelspec": {
   "display_name": "Python 3",
   "language": "python",
   "name": "python3"
  },
  "language_info": {
   "codemirror_mode": {
    "name": "ipython",
    "version": 3
   },
   "file_extension": ".py",
   "mimetype": "text/x-python",
   "name": "python",
   "nbconvert_exporter": "python",
   "pygments_lexer": "ipython3",
   "version": "3.6.5"
  }
 },
 "nbformat": 4,
 "nbformat_minor": 2
}
